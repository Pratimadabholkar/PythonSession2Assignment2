{
 "cells": [
  {
   "cell_type": "code",
   "execution_count": 2,
   "metadata": {},
   "outputs": [
    {
     "name": "stdout",
     "output_type": "stream",
     "text": [
      "Enter comma seprated numbers : 1,2,3,4,5,6,7,8,9\n",
      "List :  ['1', '2', '3', '4', '5', '6', '7', '8', '9']\n"
     ]
    }
   ],
   "source": [
    "# 1. Accept a sequence of comma separted numbers and generate a list\n",
    "list_Numbers = input(\"Enter comma seprated numbers : \")\n",
    "list = list_Numbers.split(\",\")\n",
    "print('List : ',list)"
   ]
  },
  {
   "cell_type": "code",
   "execution_count": 27,
   "metadata": {},
   "outputs": [
    {
     "name": "stdout",
     "output_type": "stream",
     "text": [
      "*\n",
      "**\n",
      "***\n",
      "****\n",
      "*****\n",
      "****\n",
      "***\n",
      "**\n",
      "*\n"
     ]
    }
   ],
   "source": [
    "# 2. Create the below pattern using nested for loop in Python\n",
    "star=\"*\"\n",
    "j=0\n",
    "for i in range(1,10):\n",
    "    if i<6:\n",
    "        print(star*i)\n",
    "    if i>5:\n",
    "        j=j+2\n",
    "        print(star*(i-j))"
   ]
  },
  {
   "cell_type": "code",
   "execution_count": 31,
   "metadata": {},
   "outputs": [
    {
     "name": "stdout",
     "output_type": "stream",
     "text": [
      "Enter single word: AcadGild\n",
      "dliGdacA\n"
     ]
    }
   ],
   "source": [
    "# 3. Write a Python program to reverse a word after accepting the input from the user.\n",
    "word=input(\"Enter single word: \")\n",
    "print(word[::-1])\n"
   ]
  },
  {
   "cell_type": "code",
   "execution_count": 55,
   "metadata": {},
   "outputs": [
    {
     "name": "stdout",
     "output_type": "stream",
     "text": [
      "WE, THE PEOPLE OF INDIA,\n",
      "\thaving solemnly resolved to constitute India into a SOVEREIGN, !\n",
      "\t\tSOCIALIST, SECULAR, DEMOCRATIC REPUBLIC\n",
      "\t\t and to secure to all its citizens\n"
     ]
    }
   ],
   "source": [
    "# 4. Write a Python Program to print the given string the format specified in the sample output\n",
    "print(\"WE, THE PEOPLE OF INDIA,\"\"\\n\\thaving solemnly resolved to constitute India into a SOVEREIGN, !\"\"\\n\\t\\tSOCIALIST, SECULAR, DEMOCRATIC REPUBLIC\"\"\\n\\t\\t and to secure to all its citizens\")"
   ]
  }
 ],
 "metadata": {
  "kernelspec": {
   "display_name": "Python 3",
   "language": "python",
   "name": "python3"
  },
  "language_info": {
   "codemirror_mode": {
    "name": "ipython",
    "version": 3
   },
   "file_extension": ".py",
   "mimetype": "text/x-python",
   "name": "python",
   "nbconvert_exporter": "python",
   "pygments_lexer": "ipython3",
   "version": "3.6.5"
  }
 },
 "nbformat": 4,
 "nbformat_minor": 2
}
